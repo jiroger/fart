{
 "cells": [
  {
   "cell_type": "markdown",
   "metadata": {},
   "source": [
    "# Python Review Code Questions"
   ]
  },
  {
   "cell_type": "markdown",
   "metadata": {},
   "source": [
    "## Numbers\n",
    "                Numbers are the highest degree of knowledge. It is knowledge itself. - Plato"
   ]
  },
  {
   "cell_type": "markdown",
   "metadata": {},
   "source": [
    "#### In 1061 basketball games Lebron James scored 28,787 points. Print how many points he averaged per game"
   ]
  },
  {
   "cell_type": "code",
   "execution_count": 4,
   "metadata": {},
   "outputs": [
    {
     "name": "stdout",
     "output_type": "stream",
     "text": [
      "27.131950989632422\n"
     ]
    }
   ],
   "source": [
    "x = 28787.0/1061\n",
    "print(x)"
   ]
  },
  {
   "cell_type": "markdown",
   "metadata": {},
   "source": [
    "#### In Michael Jordan's first 1061 basketball games he scored 32,061 points. Print how many points he averaged per game"
   ]
  },
  {
   "cell_type": "code",
   "execution_count": 3,
   "metadata": {},
   "outputs": [
    {
     "name": "stdout",
     "output_type": "stream",
     "text": [
      "30.217719132893496\n"
     ]
    }
   ],
   "source": [
    "y = 32061.0/1061\n",
    "print(y)"
   ]
  },
  {
   "cell_type": "markdown",
   "metadata": {},
   "source": [
    "#### Print the difference between Michael Jordan's average and Lebron James average in their first 1061 basketball games?"
   ]
  },
  {
   "cell_type": "code",
   "execution_count": 5,
   "metadata": {},
   "outputs": [
    {
     "name": "stdout",
     "output_type": "stream",
     "text": [
      "3.085768143261074\n"
     ]
    }
   ],
   "source": [
    "print(y-x)"
   ]
  },
  {
   "cell_type": "markdown",
   "metadata": {},
   "source": [
    "#### Write a for loop that prints out all even numbers between 1 and 11. Use python's modulo (%) operator"
   ]
  },
  {
   "cell_type": "code",
   "execution_count": 6,
   "metadata": {},
   "outputs": [
    {
     "name": "stdout",
     "output_type": "stream",
     "text": [
      "2\n",
      "4\n",
      "6\n",
      "8\n",
      "10\n"
     ]
    }
   ],
   "source": [
    "for i in range(1, 11):\n",
    "    if (i % 2 == 0):\n",
    "        print(i)\n",
    "        "
   ]
  },
  {
   "cell_type": "markdown",
   "metadata": {},
   "source": [
    "## Strings\n",
    "       False words are not only evil in themselves, but they infect the soul with evil. - socrates"
   ]
  },
  {
   "cell_type": "markdown",
   "metadata": {},
   "source": [
    "#### Assign a string to the variable below and print the variable."
   ]
  },
  {
   "cell_type": "code",
   "execution_count": 9,
   "metadata": {},
   "outputs": [
    {
     "name": "stdout",
     "output_type": "stream",
     "text": [
      "party in the usa\n"
     ]
    }
   ],
   "source": [
    "fav_song_title = \"party in the usa\"\n",
    "print(fav_song_title)"
   ]
  },
  {
   "cell_type": "markdown",
   "metadata": {},
   "source": [
    "#### Use a Python special character to print out two lines from your favorite song\n",
    "i.e)           \n",
    "Just a small town girl                                              \n",
    "living in a lonely world"
   ]
  },
  {
   "cell_type": "code",
   "execution_count": 10,
   "metadata": {},
   "outputs": [
    {
     "name": "stdout",
     "output_type": "stream",
     "text": [
      "walk into the club outta my taxicab \n",
      " like who\n"
     ]
    }
   ],
   "source": [
    "print(\"walk into the club outta my taxicab \\n like who\")"
   ]
  },
  {
   "cell_type": "markdown",
   "metadata": {},
   "source": [
    "#### Concatenate the two variables below and assign to a new variable"
   ]
  },
  {
   "cell_type": "code",
   "execution_count": 11,
   "metadata": {
    "collapsed": true
   },
   "outputs": [],
   "source": [
    "line_1 = 'say what you '\n",
    "line_2 = 'need to say'\n",
    "line_3 = line_1 + line_2"
   ]
  },
  {
   "cell_type": "markdown",
   "metadata": {},
   "source": [
    "#### Print your new variable 8 times using the * operator. Each time the string should be printed on a new line"
   ]
  },
  {
   "cell_type": "code",
   "execution_count": 15,
   "metadata": {},
   "outputs": [
    {
     "name": "stdout",
     "output_type": "stream",
     "text": [
      "say what you need to say\n",
      "say what you need to say\n",
      "say what you need to say\n",
      "say what you need to say\n",
      "say what you need to say\n",
      "say what you need to say\n",
      "say what you need to say\n",
      "say what you need to say\n"
     ]
    }
   ],
   "source": [
    "for i in range(8):\n",
    "    print(line_3)"
   ]
  },
  {
   "cell_type": "markdown",
   "metadata": {},
   "source": [
    "#### Add and print the two variables below. Hint: use type casting (if you don't know type casting google it!)"
   ]
  },
  {
   "cell_type": "code",
   "execution_count": 19,
   "metadata": {},
   "outputs": [
    {
     "name": "stdout",
     "output_type": "stream",
     "text": [
      "6\n",
      "42\n"
     ]
    }
   ],
   "source": [
    "num_good_miley_songs = \"4\"\n",
    "num_good_beiber_songs = \"2\"\n",
    "total = int(num_good_miley_songs) + int(num_good_beiber_songs)\n",
    "print(total)\n",
    "print(num_good_miley_songs + num_good_beiber_songs)"
   ]
  },
  {
   "cell_type": "markdown",
   "metadata": {},
   "source": [
    "## Lists\n",
    "     People who want to appear clever rely on memory. People who want to get things done make lists. "
   ]
  },
  {
   "cell_type": "markdown",
   "metadata": {},
   "source": [
    "####  Create a list with your 5 favorite foods as strings"
   ]
  },
  {
   "cell_type": "code",
   "execution_count": 29,
   "metadata": {
    "collapsed": true
   },
   "outputs": [],
   "source": [
    "myList = [\"cake\", \"ice cream\", \"pie\", \"soup\", \"rice\"]"
   ]
  },
  {
   "cell_type": "markdown",
   "metadata": {},
   "source": [
    "#### Use indexing to print  your first three items in the list"
   ]
  },
  {
   "cell_type": "code",
   "execution_count": 30,
   "metadata": {},
   "outputs": [
    {
     "name": "stdout",
     "output_type": "stream",
     "text": [
      "['cake', 'ice cream', 'pie']\n"
     ]
    }
   ],
   "source": [
    "print(myList[:3])"
   ]
  },
  {
   "cell_type": "markdown",
   "metadata": {},
   "source": [
    "#### Append the string below to your list"
   ]
  },
  {
   "cell_type": "code",
   "execution_count": 31,
   "metadata": {
    "collapsed": true
   },
   "outputs": [],
   "source": [
    "# write code here\n",
    "best_food = \"Johnny's Grandma's Spaghetti\"\n",
    "# ^ notice the use of single quotes within double quotes\n",
    "myList.append(best_food)"
   ]
  },
  {
   "cell_type": "markdown",
   "metadata": {},
   "source": [
    "#### Concatenate the list below to your list"
   ]
  },
  {
   "cell_type": "code",
   "execution_count": 32,
   "metadata": {
    "collapsed": true
   },
   "outputs": [],
   "source": [
    "# write code here\n",
    "other_good_foods = [\"chicken salad\", \"lemon meringue pie\"]\n",
    "myList += other_good_foods"
   ]
  },
  {
   "cell_type": "markdown",
   "metadata": {},
   "source": [
    "#### Print the length of your list"
   ]
  },
  {
   "cell_type": "code",
   "execution_count": 33,
   "metadata": {},
   "outputs": [
    {
     "data": {
      "text/plain": [
       "8"
      ]
     },
     "execution_count": 33,
     "metadata": {},
     "output_type": "execute_result"
    }
   ],
   "source": [
    "len(myList)"
   ]
  },
  {
   "cell_type": "markdown",
   "metadata": {},
   "source": [
    "## Control Flow\n",
    "        Flo(w) from Progressive: Sprinkles are for winners"
   ]
  },
  {
   "cell_type": "markdown",
   "metadata": {},
   "source": [
    "### Assign a number to the variable"
   ]
  },
  {
   "cell_type": "code",
   "execution_count": 34,
   "metadata": {
    "collapsed": true
   },
   "outputs": [],
   "source": [
    "distance_from_boston = 3000"
   ]
  },
  {
   "cell_type": "markdown",
   "metadata": {},
   "source": [
    "#### Use control statements to print out 'close' if distance_from_boston is within 50 miles, 'drivable' if distance_from_boston is within 100 miles but greater than 50 miles, and 'far' if distance_from_boston is greater than 100 miles"
   ]
  },
  {
   "cell_type": "code",
   "execution_count": 36,
   "metadata": {},
   "outputs": [
    {
     "name": "stdout",
     "output_type": "stream",
     "text": [
      "far\n"
     ]
    }
   ],
   "source": [
    "if (distance_from_boston < 50):\n",
    "    print(\"close\")\n",
    "elif (distance_from_boston < 100):\n",
    "    print(\"driveable\")\n",
    "else:\n",
    "    print(\"far\")"
   ]
  },
  {
   "cell_type": "markdown",
   "metadata": {},
   "source": [
    "## Loop through all integers between 1 and 11 and print even numbers but use a different type of loop then above"
   ]
  },
  {
   "cell_type": "code",
   "execution_count": 43,
   "metadata": {},
   "outputs": [
    {
     "name": "stdout",
     "output_type": "stream",
     "text": [
      "2\n",
      "4\n",
      "6\n",
      "8\n",
      "10\n"
     ]
    }
   ],
   "source": [
    "i = 1\n",
    "while i < 12:\n",
    "    if (i % 2 == 0):\n",
    "        print(i)\n",
    "    i += 1\n"
   ]
  },
  {
   "cell_type": "markdown",
   "metadata": {},
   "source": [
    "## Extra Coding Challenges\n",
    "        There are no traffic jams along the extra mile"
   ]
  },
  {
   "cell_type": "markdown",
   "metadata": {
    "collapsed": true
   },
   "source": [
    "#### Write a function here that returns 'fizz' if x if divisible by 3, 'buzz' if x is divisible by 5 'fizzbuzz' if x is divisible by both three and five, and x otherwise"
   ]
  },
  {
   "cell_type": "code",
   "execution_count": 51,
   "metadata": {
    "collapsed": true
   },
   "outputs": [],
   "source": [
    "def f1(num):\n",
    "    if (num% 15 == 0):\n",
    "        print(\"fizzbuzz\")\n",
    "    elif(num%5 == 0):\n",
    "        print(\"buzz\")\n",
    "    elif(num%3 == 0):\n",
    "        print(\"fizz\")\n",
    "    else:\n",
    "        print(num)\n"
   ]
  },
  {
   "cell_type": "markdown",
   "metadata": {},
   "source": [
    "#### Write a function that accomplishes the following \n",
    "        \n",
    "        1) Append x to a list\n",
    "        2) If x is even, divide it by 2 and add the resulting number to the list\n",
    "        3) If x is odd, multiply it by 3 and add 1. Add the resulting number to the list\n",
    "        4) Repeat steps 2 and 3 until you reach the number 1\n",
    "        5) Return the list\n",
    "        \n",
    "        HINT: your_list[0] should be x and your_list[-1] should be 1"
   ]
  },
  {
   "cell_type": "code",
   "execution_count": 83,
   "metadata": {},
   "outputs": [
    {
     "name": "stdout",
     "output_type": "stream",
     "text": [
      "[5, 16, 8.0, 4.0, 2.0, 1.0]\n"
     ]
    }
   ],
   "source": [
    "def f2(x, myList):\n",
    "    myList.append(x)\n",
    "    \n",
    "    if (x == 1):\n",
    "        return myList\n",
    "    elif (x % 2 == 0):\n",
    "        return f2(x/2, myList)\n",
    "    else:\n",
    "        return f2((x*3) + 1, myList)\n",
    "        \n",
    "print(f2(5, []))"
   ]
  },
  {
   "cell_type": "markdown",
   "metadata": {},
   "source": [
    "#### Write a function that, given n, computes the nth fibonacci number (using recursion)"
   ]
  },
  {
   "cell_type": "code",
   "execution_count": 139,
   "metadata": {},
   "outputs": [
    {
     "name": "stdout",
     "output_type": "stream",
     "text": [
      "8\n"
     ]
    }
   ],
   "source": [
    "def fib(n):\n",
    "    if (n == 0):\n",
    "        return 1\n",
    "    elif (n == 1):\n",
    "        return 1\n",
    "    else:\n",
    "        return fib(n-1) + fib(n-2)\n",
    "print(fib(5))"
   ]
  },
  {
   "cell_type": "markdown",
   "metadata": {},
   "source": [
    "#### Use slicing to write a function that accepts a list and returns the list reversed"
   ]
  },
  {
   "cell_type": "code",
   "execution_count": 117,
   "metadata": {},
   "outputs": [
    {
     "name": "stdout",
     "output_type": "stream",
     "text": [
      "5\n",
      "4\n",
      "3\n",
      "2\n",
      "1\n"
     ]
    }
   ],
   "source": [
    "for i in range(5, 0, -1):\n",
    "    print(i)"
   ]
  },
  {
   "cell_type": "code",
   "execution_count": 123,
   "metadata": {},
   "outputs": [
    {
     "name": "stdout",
     "output_type": "stream",
     "text": [
      "[6, 4, 3, 2, 1]\n"
     ]
    }
   ],
   "source": [
    "\n",
    "def rev1(myList):\n",
    "    j = 0\n",
    "    tempList = []\n",
    "    for i in range(len(myList) - 1, -1, -1):\n",
    "        tempList.append(myList[i])\n",
    "    return tempList\n",
    "        \n",
    "myList = [1,2,3,4,6]\n",
    "print(rev1(myList))"
   ]
  },
  {
   "cell_type": "markdown",
   "metadata": {},
   "source": [
    "#### Write a function that tells if a string is a palindrome"
   ]
  },
  {
   "cell_type": "code",
   "execution_count": 137,
   "metadata": {},
   "outputs": [
    {
     "name": "stdout",
     "output_type": "stream",
     "text": [
      "r\n",
      "a\n",
      "c\n",
      "e\n",
      "c\n",
      "a\n",
      "r\n",
      "True\n"
     ]
    }
   ],
   "source": [
    "def palind(string):\n",
    "    return string == reverse(string)\n",
    "print(palind(\"racecar\"))"
   ]
  },
  {
   "cell_type": "markdown",
   "metadata": {},
   "source": [
    "#### Write a function that reverses a string"
   ]
  },
  {
   "cell_type": "code",
   "execution_count": 131,
   "metadata": {
    "collapsed": true
   },
   "outputs": [],
   "source": [
    "def reverse(string):\n",
    "    newstring = \"\"\n",
    "    for i in range(len(string) - 1, -1, -1):\n",
    "        print(string[i])\n",
    "        newstring += string[i]\n",
    "    return newstring\n"
   ]
  },
  {
   "cell_type": "code",
   "execution_count": null,
   "metadata": {
    "collapsed": true
   },
   "outputs": [],
   "source": []
  }
 ],
 "metadata": {
  "kernelspec": {
   "display_name": "Python 3",
   "language": "python",
   "name": "python3"
  },
  "language_info": {
   "codemirror_mode": {
    "name": "ipython",
    "version": 3
   },
   "file_extension": ".py",
   "mimetype": "text/x-python",
   "name": "python",
   "nbconvert_exporter": "python",
   "pygments_lexer": "ipython3",
   "version": "3.6.1"
  }
 },
 "nbformat": 4,
 "nbformat_minor": 1
}
