{
 "cells": [
  {
   "cell_type": "markdown",
   "metadata": {},
   "source": [
    "# More Python"
   ]
  },
  {
   "cell_type": "code",
   "execution_count": 1,
   "metadata": {
    "collapsed": true
   },
   "outputs": [],
   "source": [
    "import numpy as np\n",
    "import random"
   ]
  },
  {
   "cell_type": "markdown",
   "metadata": {},
   "source": [
    "### String Formatting"
   ]
  },
  {
   "cell_type": "code",
   "execution_count": 2,
   "metadata": {},
   "outputs": [
    {
     "name": "stdout",
     "output_type": "stream",
     "text": [
      "Hi I am Johnny, and I am 33 years old\n",
      "Johnny 33\n"
     ]
    }
   ],
   "source": [
    "name = \"Johnny\"\n",
    "age = 33\n",
    "# position formatting\n",
    "print('Hi I am {}, and I am {} years old'.format(name, age))\n",
    "print('{:s} {:d}'.format(name, age))  # :s -> string, :d -> integers"
   ]
  },
  {
   "cell_type": "code",
   "execution_count": 9,
   "metadata": {},
   "outputs": [
    {
     "data": {
      "text/plain": [
       "'    Johnny'"
      ]
     },
     "execution_count": 9,
     "metadata": {},
     "output_type": "execute_result"
    }
   ],
   "source": [
    "'{:>10}'.format(name)  # shift right"
   ]
  },
  {
   "cell_type": "code",
   "execution_count": 12,
   "metadata": {},
   "outputs": [
    {
     "data": {
      "text/plain": [
       "'003.14'"
      ]
     },
     "execution_count": 12,
     "metadata": {},
     "output_type": "execute_result"
    }
   ],
   "source": [
    "'{:06.2f}'.format(3.141592653589793)  # want atleast six characters, and 2 after the decimal point"
   ]
  },
  {
   "cell_type": "markdown",
   "metadata": {},
   "source": [
    "### Generators"
   ]
  },
  {
   "cell_type": "code",
   "execution_count": 13,
   "metadata": {},
   "outputs": [
    {
     "name": "stdout",
     "output_type": "stream",
     "text": [
      "Generator example with list: 0,1,2,3,4,\n",
      "Generator example with numpy array:  0,1,2,3,4,"
     ]
    }
   ],
   "source": [
    "l = [0, 1,2,3,4]\n",
    "\n",
    "print(\"Generator example with list:\", end = \" \")\n",
    "for value in l:\n",
    "    print(value, end=\",\")\n",
    "    \n",
    "array = np.arange(5)\n",
    "\n",
    "print(\"\\nGenerator example with numpy array: \", end = \" \")\n",
    "for value in array:\n",
    "    print(value, end=\",\")"
   ]
  },
  {
   "cell_type": "markdown",
   "metadata": {},
   "source": [
    " Generators are used for any Python object that can be iterated over (looped through. Any class that can have a next function can be iterated on. The next function is called implicitly in the for loop examples above. "
   ]
  },
  {
   "cell_type": "markdown",
   "metadata": {},
   "source": [
    "#### List Comprehensions"
   ]
  },
  {
   "cell_type": "code",
   "execution_count": 14,
   "metadata": {},
   "outputs": [
    {
     "name": "stdout",
     "output_type": "stream",
     "text": [
      "[0 1 2 3 4]\n"
     ]
    },
    {
     "data": {
      "text/plain": [
       "[0, 1, 4, 9, 16]"
      ]
     },
     "execution_count": 14,
     "metadata": {},
     "output_type": "execute_result"
    }
   ],
   "source": [
    "l = np.arange(5)\n",
    "print(l)\n",
    "squares = [x**2 for x in l]\n",
    "squares"
   ]
  },
  {
   "cell_type": "markdown",
   "metadata": {},
   "source": [
    "Creates a new list with the syntax below                 "
   ]
  },
  {
   "cell_type": "code",
   "execution_count": 15,
   "metadata": {
    "collapsed": true
   },
   "outputs": [],
   "source": [
    "# [output_expression() for(set of values to iterate) if (boolean condition)]"
   ]
  },
  {
   "cell_type": "markdown",
   "metadata": {},
   "source": [
    "### Itertools: a module to create a wide range of iterators in a memory efficient fashion\n",
    "https://www.blog.pythonlibrary.org/2016/04/20/python-201-an-intro-to-itertools/"
   ]
  },
  {
   "cell_type": "code",
   "execution_count": 17,
   "metadata": {
    "collapsed": true
   },
   "outputs": [],
   "source": [
    "from itertools import islice, count"
   ]
  },
  {
   "cell_type": "code",
   "execution_count": 18,
   "metadata": {},
   "outputs": [
    {
     "name": "stdout",
     "output_type": "stream",
     "text": [
      "0\n",
      "10\n",
      "20\n",
      "30\n",
      "40\n"
     ]
    }
   ],
   "source": [
    "for i in islice(count(0,10), 5):  # count:(start, step), islice(iterable, stop)\n",
    "    print(i)"
   ]
  },
  {
   "cell_type": "code",
   "execution_count": 19,
   "metadata": {
    "collapsed": true
   },
   "outputs": [],
   "source": [
    "from itertools import cycle"
   ]
  },
  {
   "cell_type": "code",
   "execution_count": 20,
   "metadata": {},
   "outputs": [
    {
     "name": "stdout",
     "output_type": "stream",
     "text": [
      "6\n",
      "X Y Z X Y Z X "
     ]
    }
   ],
   "source": [
    "count = 0\n",
    "rand_int = random.randint(5,10)\n",
    "print(rand_int)\n",
    "for item in cycle('XYZ'):\n",
    "    if count > rand_int:\n",
    "        break\n",
    "    print(item, end=\" \")\n",
    "    count += 1"
   ]
  },
  {
   "cell_type": "code",
   "execution_count": 21,
   "metadata": {},
   "outputs": [
    {
     "data": {
      "text/plain": [
       "[('Chevrolet', 'Cobalt'),\n",
       " ('Dodge', 'Charger'),\n",
       " ('Dodge', 'Durango'),\n",
       " ('Ford', 'F150'),\n",
       " ('Ford', 'GT'),\n",
       " ('Ford', 'Taurus')]"
      ]
     },
     "execution_count": 21,
     "metadata": {},
     "output_type": "execute_result"
    }
   ],
   "source": [
    "from itertools import groupby\n",
    " \n",
    "vehicles = [('Ford', 'Taurus'), ('Dodge', 'Durango'),\n",
    "            ('Chevrolet', 'Cobalt'), ('Ford', 'F150'),\n",
    "            ('Dodge', 'Charger'), ('Ford', 'GT')]\n",
    " \n",
    "sorted_vehicles = sorted(vehicles)  # Python function which return a new sorted list from the items in iterable.\n",
    "sorted_vehicles"
   ]
  },
  {
   "cell_type": "code",
   "execution_count": 22,
   "metadata": {},
   "outputs": [
    {
     "name": "stdout",
     "output_type": "stream",
     "text": [
      "Cobalt is made by Chevrolet\n",
      "Charger is made by Dodge\n",
      "Durango is made by Dodge\n",
      "F150 is made by Ford\n",
      "GT is made by Ford\n",
      "Taurus is made by Ford\n"
     ]
    }
   ],
   "source": [
    "# group by returns keys and groups (groups is an iterator)\n",
    "for key, group in groupby(sorted_vehicles, lambda make: make[0]):  # lambda is an 'anonymous function' a function with no def\n",
    "     for make, model in group:\n",
    "        print('{model} is made by {make}'.format(model=model,\n",
    "                                                 make=make))"
   ]
  },
  {
   "cell_type": "markdown",
   "metadata": {},
   "source": [
    "Python enumerate funciton: used on an iterator or a sequence"
   ]
  },
  {
   "cell_type": "code",
   "execution_count": 24,
   "metadata": {},
   "outputs": [
    {
     "name": "stdout",
     "output_type": "stream",
     "text": [
      "0 a\n",
      "1 b\n",
      "2 c\n",
      "3 d\n",
      "4 e\n",
      "5 f\n",
      "6 g\n",
      "7 h\n"
     ]
    }
   ],
   "source": [
    "letters = ['a', 'b', 'c', 'd', 'e', 'f', 'g', 'h']\n",
    "for i, item in enumerate(letters):  # enumerate returns a tupple of (index, item)\n",
    "    print(i, item)"
   ]
  },
  {
   "cell_type": "markdown",
   "metadata": {},
   "source": [
    "### Input/Ouput"
   ]
  },
  {
   "cell_type": "code",
   "execution_count": 25,
   "metadata": {},
   "outputs": [
    {
     "name": "stdout",
     "output_type": "stream",
     "text": [
      "What is your nameJohnny\n",
      "Johnny\n"
     ]
    }
   ],
   "source": [
    "name = input(\"What is your name\")  # reads standard input, console input\n",
    "print(name)  # standard output"
   ]
  },
  {
   "cell_type": "markdown",
   "metadata": {},
   "source": [
    "Before reading or writing to a file need to open file with python open() function"
   ]
  },
  {
   "cell_type": "code",
   "execution_count": 26,
   "metadata": {},
   "outputs": [],
   "source": [
    "f = open(\"test.txt\", \"w\")  # open(filename, mode)   wb is write binary, w is write\n",
    "f.write(\"Hello World\")\n",
    "f.close()"
   ]
  },
  {
   "cell_type": "code",
   "execution_count": 28,
   "metadata": {},
   "outputs": [
    {
     "name": "stdout",
     "output_type": "stream",
     "text": [
      "Hello World\n"
     ]
    }
   ],
   "source": [
    "f = open(\"test.txt\", \"r\")\n",
    "print(f.read())\n",
    "f.close()"
   ]
  },
  {
   "cell_type": "markdown",
   "metadata": {},
   "source": [
    "pickle is a python module used to save and load Python objects                        \n",
    "pickling: Python object hierarchy is converted into a byte stream"
   ]
  },
  {
   "cell_type": "code",
   "execution_count": 29,
   "metadata": {},
   "outputs": [
    {
     "data": {
      "text/plain": [
       "[('Chevrolet', 'Cobalt'),\n",
       " ('Dodge', 'Charger'),\n",
       " ('Dodge', 'Durango'),\n",
       " ('Ford', 'F150'),\n",
       " ('Ford', 'GT'),\n",
       " ('Ford', 'Taurus')]"
      ]
     },
     "execution_count": 29,
     "metadata": {},
     "output_type": "execute_result"
    }
   ],
   "source": [
    "import pickle\n",
    "sorted_vehicles"
   ]
  },
  {
   "cell_type": "code",
   "execution_count": 30,
   "metadata": {},
   "outputs": [],
   "source": [
    "with open(\"sorted_vehicles.pkl\", \"wb\") as f:  # with is a simple standard way to open a file, process its contents, and close it\n",
    "    pickle.dump(sorted_vehicles, f)  # close is called in the background "
   ]
  },
  {
   "cell_type": "code",
   "execution_count": 31,
   "metadata": {},
   "outputs": [
    {
     "data": {
      "text/plain": [
       "[('Chevrolet', 'Cobalt'),\n",
       " ('Dodge', 'Charger'),\n",
       " ('Dodge', 'Durango'),\n",
       " ('Ford', 'F150'),\n",
       " ('Ford', 'GT'),\n",
       " ('Ford', 'Taurus')]"
      ]
     },
     "execution_count": 31,
     "metadata": {},
     "output_type": "execute_result"
    }
   ],
   "source": [
    "with open(\"sorted_vehicles.pkl\", \"rb\") as f:\n",
    "    new_sorted_vehicles = pickle.load(f)\n",
    "new_sorted_vehicles"
   ]
  }
 ],
 "metadata": {
  "kernelspec": {
   "display_name": "Python 3",
   "language": "python",
   "name": "python3"
  },
  "language_info": {
   "codemirror_mode": {
    "name": "ipython",
    "version": 3
   },
   "file_extension": ".py",
   "mimetype": "text/x-python",
   "name": "python",
   "nbconvert_exporter": "python",
   "pygments_lexer": "ipython3",
   "version": "3.6.1"
  }
 },
 "nbformat": 4,
 "nbformat_minor": 2
}
